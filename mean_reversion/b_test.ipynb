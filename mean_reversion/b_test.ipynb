{
 "cells": [
  {
   "cell_type": "code",
   "execution_count": 1,
   "metadata": {},
   "outputs": [],
   "source": [
    "%load_ext autoreload\n",
    "%autoreload 2"
   ]
  },
  {
   "cell_type": "code",
   "execution_count": 2,
   "metadata": {},
   "outputs": [
    {
     "name": "stderr",
     "output_type": "stream",
     "text": [
      "/home/strike/work/penv/deep/lib/python3.13/site-packages/backtesting/_plotting.py:54: UserWarning: Jupyter Notebook detected. Setting Bokeh output to notebook. This may not work in Jupyter clients without JavaScript support (e.g. PyCharm, Spyder IDE). Reset with `backtesting.set_bokeh_output(notebook=False)`.\n",
      "  warnings.warn('Jupyter Notebook detected. '\n"
     ]
    },
    {
     "data": {
      "text/html": [
       "    <style>\n",
       "        .bk-notebook-logo {\n",
       "            display: block;\n",
       "            width: 20px;\n",
       "            height: 20px;\n",
       "            background-image: url(data:image/png;base64,iVBORw0KGgoAAAANSUhEUgAAABQAAAAUCAYAAACNiR0NAAAABHNCSVQICAgIfAhkiAAAAAlwSFlzAAALEgAACxIB0t1+/AAAABx0RVh0U29mdHdhcmUAQWRvYmUgRmlyZXdvcmtzIENTNui8sowAAAOkSURBVDiNjZRtaJVlGMd/1/08zzln5zjP1LWcU9N0NkN8m2CYjpgQYQXqSs0I84OLIC0hkEKoPtiH3gmKoiJDU7QpLgoLjLIQCpEsNJ1vqUOdO7ppbuec5+V+rj4ctwzd8IIbbi6u+8f1539dt3A78eXC7QizUF7gyV1fD1Yqg4JWz84yffhm0qkFqBogB9rM8tZdtwVsPUhWhGcFJngGeWrPzHm5oaMmkfEg1usvLFyc8jLRqDOMru7AyC8saQr7GG7f5fvDeH7Ej8CM66nIF+8yngt6HWaKh7k49Soy9nXurCi1o3qUbS3zWfrYeQDTB/Qj6kX6Ybhw4B+bOYoLKCC9H3Nu/leUTZ1JdRWkkn2ldcCamzrcf47KKXdAJllSlxAOkRgyHsGC/zRday5Qld9DyoM4/q/rUoy/CXh3jzOu3bHUVZeU+DEn8FInkPBFlu3+nW3Nw0mk6vCDiWg8CeJaxEwuHS3+z5RgY+YBR6V1Z1nxSOfoaPa4LASWxxdNp+VWTk7+4vzaou8v8PN+xo+KY2xsw6une2frhw05CTYOmQvsEhjhWjn0bmXPjpE1+kplmmkP3suftwTubK9Vq22qKmrBhpY4jvd5afdRA3wGjFAgcnTK2s4hY0/GPNIb0nErGMCRxWOOX64Z8RAC4oCXdklmEvcL8o0BfkNK4lUg9HTl+oPlQxdNo3Mg4Nv175e/1LDGzZen30MEjRUtmXSfiTVu1kK8W4txyV6BMKlbgk3lMwYCiusNy9fVfvvwMxv8Ynl6vxoByANLTWplvuj/nF9m2+PDtt1eiHPBr1oIfhCChQMBw6Aw0UulqTKZdfVvfG7VcfIqLG9bcldL/+pdWTLxLUy8Qq38heUIjh4XlzZxzQm19lLFlr8vdQ97rjZVOLf8nclzckbcD4wxXMidpX30sFd37Fv/GtwwhzhxGVAprjbg0gCAEeIgwCZyTV2Z1REEW8O4py0wsjeloKoMr6iCY6dP92H6Vw/oTyICIthibxjm/DfN9lVz8IqtqKYLUXfoKVMVQVVJOElGjrnnUt9T9wbgp8AyYKaGlqingHZU/uG2NTZSVqwHQTWkx9hxjkpWDaCg6Ckj5qebgBVbT3V3NNXMSiWSDdGV3hrtzla7J+duwPOToIg42ChPQOQjspnSlp1V+Gjdged7+8UN5CRAV7a5EdFNwCjEaBR27b3W890TE7g24NAP/mMDXRWrGoFPQI9ls/MWO2dWFAar/xcOIImbbpA3zgAAAABJRU5ErkJggg==);\n",
       "        }\n",
       "    </style>\n",
       "    <div>\n",
       "        <a href=\"https://bokeh.org\" target=\"_blank\" class=\"bk-notebook-logo\"></a>\n",
       "        <span id=\"a420fa14-d563-465d-b124-45ce3e951984\">Loading BokehJS ...</span>\n",
       "    </div>\n"
      ]
     },
     "metadata": {},
     "output_type": "display_data"
    },
    {
     "data": {
      "application/javascript": "'use strict';\n(function(root) {\n  function now() {\n    return new Date();\n  }\n\n  const force = true;\n\n  if (typeof root._bokeh_onload_callbacks === \"undefined\" || force === true) {\n    root._bokeh_onload_callbacks = [];\n    root._bokeh_is_loading = undefined;\n  }\n\nconst JS_MIME_TYPE = 'application/javascript';\n  const HTML_MIME_TYPE = 'text/html';\n  const EXEC_MIME_TYPE = 'application/vnd.bokehjs_exec.v0+json';\n  const CLASS_NAME = 'output_bokeh rendered_html';\n\n  /**\n   * Render data to the DOM node\n   */\n  function render(props, node) {\n    const script = document.createElement(\"script\");\n    node.appendChild(script);\n  }\n\n  /**\n   * Handle when an output is cleared or removed\n   */\n  function handleClearOutput(event, handle) {\n    function drop(id) {\n      const view = Bokeh.index.get_by_id(id)\n      if (view != null) {\n        view.model.document.clear()\n        Bokeh.index.delete(view)\n      }\n    }\n\n    const cell = handle.cell;\n\n    const id = cell.output_area._bokeh_element_id;\n    const server_id = cell.output_area._bokeh_server_id;\n\n    // Clean up Bokeh references\n    if (id != null) {\n      drop(id)\n    }\n\n    if (server_id !== undefined) {\n      // Clean up Bokeh references\n      const cmd_clean = \"from bokeh.io.state import curstate; print(curstate().uuid_to_server['\" + server_id + \"'].get_sessions()[0].document.roots[0]._id)\";\n      cell.notebook.kernel.execute(cmd_clean, {\n        iopub: {\n          output: function(msg) {\n            const id = msg.content.text.trim()\n            drop(id)\n          }\n        }\n      });\n      // Destroy server and session\n      const cmd_destroy = \"import bokeh.io.notebook as ion; ion.destroy_server('\" + server_id + \"')\";\n      cell.notebook.kernel.execute(cmd_destroy);\n    }\n  }\n\n  /**\n   * Handle when a new output is added\n   */\n  function handleAddOutput(event, handle) {\n    const output_area = handle.output_area;\n    const output = handle.output;\n\n    // limit handleAddOutput to display_data with EXEC_MIME_TYPE content only\n    if ((output.output_type != \"display_data\") || (!Object.prototype.hasOwnProperty.call(output.data, EXEC_MIME_TYPE))) {\n      return\n    }\n\n    const toinsert = output_area.element.find(\".\" + CLASS_NAME.split(' ')[0]);\n\n    if (output.metadata[EXEC_MIME_TYPE][\"id\"] !== undefined) {\n      toinsert[toinsert.length - 1].firstChild.textContent = output.data[JS_MIME_TYPE];\n      // store reference to embed id on output_area\n      output_area._bokeh_element_id = output.metadata[EXEC_MIME_TYPE][\"id\"];\n    }\n    if (output.metadata[EXEC_MIME_TYPE][\"server_id\"] !== undefined) {\n      const bk_div = document.createElement(\"div\");\n      bk_div.innerHTML = output.data[HTML_MIME_TYPE];\n      const script_attrs = bk_div.children[0].attributes;\n      for (let i = 0; i < script_attrs.length; i++) {\n        toinsert[toinsert.length - 1].firstChild.setAttribute(script_attrs[i].name, script_attrs[i].value);\n        toinsert[toinsert.length - 1].firstChild.textContent = bk_div.children[0].textContent\n      }\n      // store reference to server id on output_area\n      output_area._bokeh_server_id = output.metadata[EXEC_MIME_TYPE][\"server_id\"];\n    }\n  }\n\n  function register_renderer(events, OutputArea) {\n\n    function append_mime(data, metadata, element) {\n      // create a DOM node to render to\n      const toinsert = this.create_output_subarea(\n        metadata,\n        CLASS_NAME,\n        EXEC_MIME_TYPE\n      );\n      this.keyboard_manager.register_events(toinsert);\n      // Render to node\n      const props = {data: data, metadata: metadata[EXEC_MIME_TYPE]};\n      render(props, toinsert[toinsert.length - 1]);\n      element.append(toinsert);\n      return toinsert\n    }\n\n    /* Handle when an output is cleared or removed */\n    events.on('clear_output.CodeCell', handleClearOutput);\n    events.on('delete.Cell', handleClearOutput);\n\n    /* Handle when a new output is added */\n    events.on('output_added.OutputArea', handleAddOutput);\n\n    /**\n     * Register the mime type and append_mime function with output_area\n     */\n    OutputArea.prototype.register_mime_type(EXEC_MIME_TYPE, append_mime, {\n      /* Is output safe? */\n      safe: true,\n      /* Index of renderer in `output_area.display_order` */\n      index: 0\n    });\n  }\n\n  // register the mime type if in Jupyter Notebook environment and previously unregistered\n  if (root.Jupyter !== undefined) {\n    const events = require('base/js/events');\n    const OutputArea = require('notebook/js/outputarea').OutputArea;\n\n    if (OutputArea.prototype.mime_types().indexOf(EXEC_MIME_TYPE) == -1) {\n      register_renderer(events, OutputArea);\n    }\n  }\n  if (typeof (root._bokeh_timeout) === \"undefined\" || force === true) {\n    root._bokeh_timeout = Date.now() + 5000;\n    root._bokeh_failed_load = false;\n  }\n\n  const NB_LOAD_WARNING = {'data': {'text/html':\n     \"<div style='background-color: #fdd'>\\n\"+\n     \"<p>\\n\"+\n     \"BokehJS does not appear to have successfully loaded. If loading BokehJS from CDN, this \\n\"+\n     \"may be due to a slow or bad network connection. Possible fixes:\\n\"+\n     \"</p>\\n\"+\n     \"<ul>\\n\"+\n     \"<li>re-rerun `output_notebook()` to attempt to load from CDN again, or</li>\\n\"+\n     \"<li>use INLINE resources instead, as so:</li>\\n\"+\n     \"</ul>\\n\"+\n     \"<code>\\n\"+\n     \"from bokeh.resources import INLINE\\n\"+\n     \"output_notebook(resources=INLINE)\\n\"+\n     \"</code>\\n\"+\n     \"</div>\"}};\n\n  function display_loaded(error = null) {\n    const el = document.getElementById(\"a420fa14-d563-465d-b124-45ce3e951984\");\n    if (el != null) {\n      const html = (() => {\n        if (typeof root.Bokeh === \"undefined\") {\n          if (error == null) {\n            return \"BokehJS is loading ...\";\n          } else {\n            return \"BokehJS failed to load.\";\n          }\n        } else {\n          const prefix = `BokehJS ${root.Bokeh.version}`;\n          if (error == null) {\n            return `${prefix} successfully loaded.`;\n          } else {\n            return `${prefix} <b>encountered errors</b> while loading and may not function as expected.`;\n          }\n        }\n      })();\n      el.innerHTML = html;\n\n      if (error != null) {\n        const wrapper = document.createElement(\"div\");\n        wrapper.style.overflow = \"auto\";\n        wrapper.style.height = \"5em\";\n        wrapper.style.resize = \"vertical\";\n        const content = document.createElement(\"div\");\n        content.style.fontFamily = \"monospace\";\n        content.style.whiteSpace = \"pre-wrap\";\n        content.style.backgroundColor = \"rgb(255, 221, 221)\";\n        content.textContent = error.stack ?? error.toString();\n        wrapper.append(content);\n        el.append(wrapper);\n      }\n    } else if (Date.now() < root._bokeh_timeout) {\n      setTimeout(() => display_loaded(error), 100);\n    }\n  }\n\n  function run_callbacks() {\n    try {\n      root._bokeh_onload_callbacks.forEach(function(callback) {\n        if (callback != null)\n          callback();\n      });\n    } finally {\n      delete root._bokeh_onload_callbacks\n    }\n    console.debug(\"Bokeh: all callbacks have finished\");\n  }\n\n  function load_libs(css_urls, js_urls, callback) {\n    if (css_urls == null) css_urls = [];\n    if (js_urls == null) js_urls = [];\n\n    root._bokeh_onload_callbacks.push(callback);\n    if (root._bokeh_is_loading > 0) {\n      console.debug(\"Bokeh: BokehJS is being loaded, scheduling callback at\", now());\n      return null;\n    }\n    if (js_urls == null || js_urls.length === 0) {\n      run_callbacks();\n      return null;\n    }\n    console.debug(\"Bokeh: BokehJS not loaded, scheduling load and callback at\", now());\n    root._bokeh_is_loading = css_urls.length + js_urls.length;\n\n    function on_load() {\n      root._bokeh_is_loading--;\n      if (root._bokeh_is_loading === 0) {\n        console.debug(\"Bokeh: all BokehJS libraries/stylesheets loaded\");\n        run_callbacks()\n      }\n    }\n\n    function on_error(url) {\n      console.error(\"failed to load \" + url);\n    }\n\n    for (let i = 0; i < css_urls.length; i++) {\n      const url = css_urls[i];\n      const element = document.createElement(\"link\");\n      element.onload = on_load;\n      element.onerror = on_error.bind(null, url);\n      element.rel = \"stylesheet\";\n      element.type = \"text/css\";\n      element.href = url;\n      console.debug(\"Bokeh: injecting link tag for BokehJS stylesheet: \", url);\n      document.body.appendChild(element);\n    }\n\n    for (let i = 0; i < js_urls.length; i++) {\n      const url = js_urls[i];\n      const element = document.createElement('script');\n      element.onload = on_load;\n      element.onerror = on_error.bind(null, url);\n      element.async = false;\n      element.src = url;\n      console.debug(\"Bokeh: injecting script tag for BokehJS library: \", url);\n      document.head.appendChild(element);\n    }\n  };\n\n  function inject_raw_css(css) {\n    const element = document.createElement(\"style\");\n    element.appendChild(document.createTextNode(css));\n    document.body.appendChild(element);\n  }\n\n  const js_urls = [\"https://cdn.bokeh.org/bokeh/release/bokeh-3.6.3.min.js\", \"https://cdn.bokeh.org/bokeh/release/bokeh-gl-3.6.3.min.js\", \"https://cdn.bokeh.org/bokeh/release/bokeh-widgets-3.6.3.min.js\", \"https://cdn.bokeh.org/bokeh/release/bokeh-tables-3.6.3.min.js\", \"https://cdn.bokeh.org/bokeh/release/bokeh-mathjax-3.6.3.min.js\"];\n  const css_urls = [];\n\n  const inline_js = [    function(Bokeh) {\n      Bokeh.set_log_level(\"info\");\n    },\nfunction(Bokeh) {\n    }\n  ];\n\n  function run_inline_js() {\n    if (root.Bokeh !== undefined || force === true) {\n      try {\n            for (let i = 0; i < inline_js.length; i++) {\n      inline_js[i].call(root, root.Bokeh);\n    }\n\n      } catch (error) {display_loaded(error);throw error;\n      }if (force === true) {\n        display_loaded();\n      }} else if (Date.now() < root._bokeh_timeout) {\n      setTimeout(run_inline_js, 100);\n    } else if (!root._bokeh_failed_load) {\n      console.log(\"Bokeh: BokehJS failed to load within specified timeout.\");\n      root._bokeh_failed_load = true;\n    } else if (force !== true) {\n      const cell = $(document.getElementById(\"a420fa14-d563-465d-b124-45ce3e951984\")).parents('.cell').data().cell;\n      cell.output_area.append_execute_result(NB_LOAD_WARNING)\n    }\n  }\n\n  if (root._bokeh_is_loading === 0) {\n    console.debug(\"Bokeh: BokehJS loaded, going straight to plotting\");\n    run_inline_js();\n  } else {\n    load_libs(css_urls, js_urls, function() {\n      console.debug(\"Bokeh: BokehJS plotting callback run at\", now());\n      run_inline_js();\n    });\n  }\n}(window));",
      "application/vnd.bokehjs_load.v0+json": ""
     },
     "metadata": {},
     "output_type": "display_data"
    }
   ],
   "source": [
    "# backtesting.set_bokeh_output(notebook=False)\n",
    "import os\n",
    "import pickle\n",
    "\n",
    "import matplotlib.pyplot as plt\n",
    "import numpy as np\n",
    "import pandas as pd\n",
    "from backtesting import Backtest, Strategy\n",
    "from IPython.display import display\n",
    "from ipywidgets import IntProgress\n",
    "from scipy.stats import shapiro\n",
    "\n",
    "from src.het import het_breuschpagan\n",
    "from src.ramsy import ramsey_reset_test\n"
   ]
  },
  {
   "cell_type": "code",
   "execution_count": 3,
   "metadata": {},
   "outputs": [],
   "source": [
    "p = \"/home/strike/work/external/trade/mm_profect/general_reseach/regress/data_csv/\"\n",
    "d = os.listdir(p)\n",
    "d.sort()\n",
    "df = pd.read_csv(p + d[0])\n",
    "df = df.dropna()  # .reset_index(drop=True)\n",
    "# from datetime import datetime\n",
    "df[\"ts_event\"] = pd.to_datetime(df[\"ts_event\"])\n",
    "df[\"ts_event\"] = df[\"ts_event\"].dt.tz_localize(None)\n",
    "df.set_index(\"ts_event\", inplace=True)\n",
    "# df = df[:10000]\n",
    "data = df.loc[:, [\"open\", \"high\", \"low\", \"close\"]].rename(\n",
    "    columns={\"open\": \"Open\", \"high\": \"High\", \"low\": \"Low\", \"close\": \"Close\"}\n",
    ")\n",
    "for i in range(1, len(d)):  # len(d)\n",
    "    df = pd.read_csv(p + d[i])\n",
    "\n",
    "    df = df.dropna()  # .reset_index(drop=True)\n",
    "    # from datetime import datetime\n",
    "    df[\"ts_event\"] = pd.to_datetime(df[\"ts_event\"])\n",
    "    df[\"ts_event\"] = df[\"ts_event\"].dt.tz_localize(None)\n",
    "    df.set_index(\"ts_event\", inplace=True)\n",
    "    # df = df[:10000]\n",
    "    data1 = df.loc[:, [\"open\", \"high\", \"low\", \"close\"]].rename(\n",
    "        columns={\"open\": \"Open\", \"high\": \"High\", \"low\": \"Low\", \"close\": \"Close\"}\n",
    "    )\n",
    "    data = pd.concat([data, data1])"
   ]
  },
  {
   "cell_type": "markdown",
   "metadata": {},
   "source": [
    "3 weeks to week or week to week"
   ]
  },
  {
   "cell_type": "code",
   "execution_count": 4,
   "metadata": {},
   "outputs": [
    {
     "data": {
      "text/plain": [
       "42"
      ]
     },
     "execution_count": 4,
     "metadata": {},
     "output_type": "execute_result"
    }
   ],
   "source": [
    "# Установим начальную дату на первый понедельник\n",
    "start_date = data.index.min() + pd.tseries.offsets.Week(weekday=0)\n",
    "total_weeks = (data.index.max() - start_date).days // 7\n",
    "total_weeks"
   ]
  },
  {
   "cell_type": "code",
   "execution_count": 7,
   "metadata": {},
   "outputs": [],
   "source": [
    "class RegressionStrategy(Strategy):\n",
    "    window = 202  # Количество свечей\n",
    "    k = 35\n",
    "    p_value_thresh = 0.1  # Порог стационарности\n",
    "\n",
    "    def init(self):\n",
    "        pass\n",
    "\n",
    "    def next(self):\n",
    "        # Пропускаем первые window свечей\n",
    "        if len(self.data.Close) < self.window:\n",
    "            return\n",
    "\n",
    "        x = np.linspace(0, 1, num=self.window)\n",
    "        one = np.ones_like(x)\n",
    "        X = np.vstack([one, x, x**2]).T\n",
    "        self.t_lin = np.linalg.inv(X.T @ X) @ X.T\n",
    "        self.x = x\n",
    "\n",
    "        # Берем последние window цен закрытия\n",
    "        closes = self.data.Close[-self.window :]\n",
    "        # Создаем массив индексов для регрессии\n",
    "        # x = np.arange(len(closes))\n",
    "        \"\"\"\n",
    "        result = adfuller(closes)\n",
    "        p_value = result[1]\n",
    "        \n",
    "        # Если ряд не стационарен - не торгуем\n",
    "    \n",
    "        if p_value >= self.p_value_thresh:\n",
    "            return\n",
    "            \"\"\"\n",
    "\n",
    "        if not self.position:\n",
    "            # Тест Рамсея на линейность\n",
    "            _, s = ramsey_reset_test(self.x, closes - np.mean(closes))\n",
    "            X = self.x.reshape(-1, 1)\n",
    "            _, p_value = het_breuschpagan(X, closes)\n",
    "            if (p_value < 0.1) * (s < 0.1):  # * (s < 0.1)\n",
    "                return\n",
    "\n",
    "        # тест на гетероскедантичность\n",
    "        \"\"\"\n",
    "        X = self.x.reshape(-1,1)\n",
    "        _, p_value = het_breuschpagan(X, closes)\n",
    "        if (p_value>0.1) * (not self.position):\n",
    "            return\n",
    "        \"\"\"\n",
    "\n",
    "        # Рассчитываем коэффициенты линейной регрессии\n",
    "        w = self.t_lin @ closes\n",
    "\n",
    "        slope = w[1]\n",
    "        intercept = w[0]\n",
    "        # slope, intercept = np.polyfit(x, closes, 1)\n",
    "\n",
    "        # Получаем линию регрессии\n",
    "        regression_line = slope * self.x + intercept  # + w[2]*self.x**2\n",
    "\n",
    "        # Рассчитываем СКО ошибок\n",
    "        residuals = closes - regression_line\n",
    "\n",
    "        # Тест на нормальность\n",
    "\n",
    "        if not self.position:\n",
    "            _, p_value = shapiro(residuals)\n",
    "            if p_value < 0.1:\n",
    "                return\n",
    "\n",
    "        # Дарли Уотсона тест на постояноство ошибки (гетероскедантичность)\n",
    "        \"\"\"\n",
    "        if (not self.position) * (durbin_watson(residuals)<0.7):\n",
    "            return\n",
    "            \"\"\"\n",
    "        std = np.std(residuals / (self.window - 2))\n",
    "\n",
    "        # Текущие значения\n",
    "        current_reg = regression_line[-1]\n",
    "        current_price = closes[-1]\n",
    "        upper_band = current_reg + std * self.k\n",
    "        lower_band = current_reg - std * self.k\n",
    "\n",
    "        # Логика торговли\n",
    "        if not self.position:\n",
    "            # Сигнал на продажу\n",
    "            if current_price > upper_band:\n",
    "                self.sell()\n",
    "\n",
    "            # Сигнал на покупку\n",
    "            elif current_price < lower_band:\n",
    "                self.buy()\n",
    "\n",
    "        else:\n",
    "            # Выход из длинной позиции\n",
    "            if self.position.is_long and current_price > current_reg:\n",
    "                self.position.close()\n",
    "\n",
    "            # Выход из короткой позиции\n",
    "            elif self.position.is_short and current_price < current_reg:\n",
    "                self.position.close()\n"
   ]
  },
  {
   "cell_type": "code",
   "execution_count": 5,
   "metadata": {},
   "outputs": [],
   "source": [
    "ans = {}"
   ]
  },
  {
   "cell_type": "code",
   "execution_count": 8,
   "metadata": {},
   "outputs": [
    {
     "name": "stderr",
     "output_type": "stream",
     "text": [
      "                                                                     \r"
     ]
    }
   ],
   "source": [
    "# Цикл для выделения тренировочных и тестовых наборов\n",
    "for i in range(total_weeks - 1):\n",
    "    # Определяем начальную и конечную даты для тренировочного и тестового наборов\n",
    "    train_start = start_date + pd.DateOffset(weeks=i)\n",
    "    train_end = train_start + pd.DateOffset(weeks=1) - pd.Timedelta(days=1)\n",
    "    test_start = train_end + pd.Timedelta(days=1)\n",
    "    test_end = test_start + pd.DateOffset(weeks=1) - pd.Timedelta(days=1)\n",
    "\n",
    "    # Выделяем тренировочный и тестовый наборы\n",
    "    train_data = data[train_start:train_end]\n",
    "    test_data = data[test_start:test_end]\n",
    "\n",
    "    if (len(test_data) > 1000) * (len(train_data) > 1000):\n",
    "        bt = Backtest(train_data, RegressionStrategy, cash=100000, commission=0.0000)\n",
    "        stats = bt.optimize(\n",
    "            k=range(20, 100),  # Перебираем целые значения от 1 до 100\n",
    "            window=range(30, 300),\n",
    "            maximize=\"Equity Final [$]\",  # maximize=\" Sharpe Ratio,  # Критерий оптимизации - конечный баланс\n",
    "            method=\"grid\",  # Метод перебора\n",
    "            max_tries=100,  # Лимит количества комбинаций (можно увеличить)\n",
    "        )\n",
    "\n",
    "        # if len(test_data) > 1000:\n",
    "        # stats._strategy.k, stats._strategy.window\n",
    "\n",
    "        bt = Backtest(test_data, RegressionStrategy, cash=100000, commission=0.0000)\n",
    "\n",
    "        class RegressionStrategy(Strategy):\n",
    "            window = stats._strategy.window  # Количество свечей\n",
    "            k = stats._strategy.k\n",
    "            p_value_thresh = 0.1  # Порог стационарности\n",
    "\n",
    "            def init(self):\n",
    "                pass\n",
    "\n",
    "            def next(self):\n",
    "                # Пропускаем первые window свечей\n",
    "                if len(self.data.Close) < self.window:\n",
    "                    return\n",
    "\n",
    "                x = np.linspace(0, 1, num=self.window)\n",
    "                one = np.ones_like(x)\n",
    "                X = np.vstack([one, x, x**2]).T\n",
    "                self.t_lin = np.linalg.inv(X.T @ X) @ X.T\n",
    "                self.x = x\n",
    "\n",
    "                # Берем последние window цен закрытия\n",
    "                closes = self.data.Close[-self.window :]\n",
    "                # Создаем массив индексов для регрессии\n",
    "                # x = np.arange(len(closes))\n",
    "                \"\"\"\n",
    "                result = adfuller(closes)\n",
    "                p_value = result[1]\n",
    "                \n",
    "                # Если ряд не стационарен - не торгуем\n",
    "            \n",
    "                if p_value >= self.p_value_thresh:\n",
    "                    return\n",
    "                    \"\"\"\n",
    "\n",
    "                if not self.position:\n",
    "                    # Тест Рамсея на линейность\n",
    "                    _, s = ramsey_reset_test(self.x, closes - np.mean(closes))\n",
    "                    X = self.x.reshape(-1, 1)\n",
    "                    _, p_value = het_breuschpagan(X, closes)\n",
    "                    if (p_value < 0.1) * (s < 0.1):  # * (s < 0.1)\n",
    "                        return\n",
    "\n",
    "                # тест на гетероскедантичность\n",
    "                \"\"\"\n",
    "                X = self.x.reshape(-1,1)\n",
    "                _, p_value = het_breuschpagan(X, closes)\n",
    "                if (p_value>0.1) * (not self.position):\n",
    "                    return\n",
    "                \"\"\"\n",
    "\n",
    "                # Рассчитываем коэффициенты линейной регрессии\n",
    "                w = self.t_lin @ closes\n",
    "\n",
    "                slope = w[1]\n",
    "                intercept = w[0]\n",
    "                # slope, intercept = np.polyfit(x, closes, 1)\n",
    "\n",
    "                # Получаем линию регрессии\n",
    "                regression_line = slope * self.x + intercept  # + w[2]*self.x**2\n",
    "\n",
    "                # Рассчитываем СКО ошибок\n",
    "                residuals = closes - regression_line\n",
    "\n",
    "                # Тест на нормальность\n",
    "\n",
    "                if not self.position:\n",
    "                    _, p_value = shapiro(residuals)\n",
    "                    if p_value < 0.1:\n",
    "                        return\n",
    "\n",
    "                # Дарли Уотсона тест на постояноство ошибки (гетероскедантичность)\n",
    "                \"\"\"\n",
    "                if (not self.position) * (durbin_watson(residuals)<0.7):\n",
    "                    return\n",
    "                    \"\"\"\n",
    "                std = np.std(residuals / (self.window - 2))\n",
    "\n",
    "                # Текущие значения\n",
    "                current_reg = regression_line[-1]\n",
    "                current_price = closes[-1]\n",
    "                upper_band = current_reg + std * self.k\n",
    "                lower_band = current_reg - std * self.k\n",
    "\n",
    "                # Логика торговли\n",
    "                if not self.position:\n",
    "                    # Сигнал на продажу\n",
    "                    if current_price > upper_band:\n",
    "                        self.sell()\n",
    "\n",
    "                    # Сигнал на покупку\n",
    "                    elif current_price < lower_band:\n",
    "                        self.buy()\n",
    "\n",
    "                else:\n",
    "                    # Выход из длинной позиции\n",
    "                    if self.position.is_long and current_price > current_reg:\n",
    "                        self.position.close()\n",
    "\n",
    "                    # Выход из короткой позиции\n",
    "                    elif self.position.is_short and current_price < current_reg:\n",
    "                        self.position.close()\n",
    "\n",
    "        stats = bt.run()\n",
    "        ret = (\n",
    "            stats._equity_curve.Equity.values[1:]\n",
    "            - stats._equity_curve.Equity.values[:-1]\n",
    "        ) / stats._equity_curve.Equity.values[:-1]\n",
    "        ans[i] = ret\n",
    "\n",
    "with open(\"data_1w.pkl\", \"wb\") as file:\n",
    "    pickle.dump(ans, file)\n"
   ]
  },
  {
   "cell_type": "code",
   "execution_count": 4,
   "metadata": {},
   "outputs": [],
   "source": [
    "with open(r\"data.pkl\", \"rb\") as input_file:\n",
    "    ans = pickle.load(input_file)"
   ]
  },
  {
   "cell_type": "code",
   "execution_count": 9,
   "metadata": {},
   "outputs": [],
   "source": [
    "t = []\n",
    "L = list(ans)\n",
    "for j in L:\n",
    "    t.append(np.cumsum(ans[j])[-1])"
   ]
  },
  {
   "cell_type": "code",
   "execution_count": 10,
   "metadata": {},
   "outputs": [],
   "source": [
    "t1 = np.array(ans[0])\n",
    "\n",
    "for j in L:\n",
    "    if j != 0:\n",
    "        t1 = np.concatenate([t1, np.array(ans[j])])"
   ]
  },
  {
   "cell_type": "code",
   "execution_count": 11,
   "metadata": {},
   "outputs": [
    {
     "data": {
      "image/png": "[encoded data removed]",
      "text/plain": [
       "<Figure size 640x480 with 1 Axes>"
      ]
     },
     "metadata": {},
     "output_type": "display_data"
    }
   ],
   "source": [
    "plt.plot(np.cumsum(t1))\n",
    "plt.grid(True)"
   ]
  },
  {
   "cell_type": "markdown",
   "metadata": {},
   "source": [
    "day to day"
   ]
  },
  {
   "cell_type": "code",
   "execution_count": 4,
   "metadata": {},
   "outputs": [],
   "source": [
    "# Определяем рабочие дни в данных\n",
    "business_days = pd.bdate_range(start=data.index.min(), end=data.index.max())\n",
    "\n",
    "# Цикл для выделения тренировочных и тестовых наборов\n",
    "for i in range(len(business_days) - 1):\n",
    "    # Определяем начальную и конечную даты для тренировочного и тестового наборов\n",
    "    train_start = business_days[i]\n",
    "    train_end = train_start\n",
    "    test_start = business_days[i + 1]\n",
    "    test_end = test_start\n",
    "\n",
    "    # Выделяем тренировочный и тестовый наборы\n",
    "    train_data = data[train_start:train_end]\n",
    "    test_data = data[test_start:test_end]\n",
    "\n",
    "    # Выводим информацию о текущем наборе данных\n",
    "    # print(f\"Тренировочный набор: {train_start.date()}, размер: {len(train_data)}\")\n",
    "    # print(f\"Тестовый набор: {test_start.date()}, размер: {len(test_data)}\")\n",
    "\n",
    "    # Здесь можно добавить код для обучения и тестирования модели\n"
   ]
  },
  {
   "cell_type": "code",
   "execution_count": 5,
   "metadata": {},
   "outputs": [],
   "source": [
    "ans = {}"
   ]
  },
  {
   "cell_type": "code",
   "execution_count": 8,
   "metadata": {},
   "outputs": [
    {
     "data": {
      "application/vnd.jupyter.widget-view+json": {
       "model_id": "afacdda14af14cfa87f995f41798e48a",
       "version_major": 2,
       "version_minor": 0
      },
      "text/plain": [
       "IntProgress(value=0, max=40)"
      ]
     },
     "metadata": {},
     "output_type": "display_data"
    },
    {
     "data": {
      "application/vnd.jupyter.widget-view+json": {
       "model_id": "7546c0f99f134bc99516511828939013",
       "version_major": 2,
       "version_minor": 0
      },
      "text/plain": [
       "Backtest.optimize:   0%|          | 0/100 [00:00<?, ?it/s]"
      ]
     },
     "metadata": {},
     "output_type": "display_data"
    },
    {
     "data": {
      "application/vnd.jupyter.widget-view+json": {
       "model_id": "180c2df36434462da18579092e3089a5",
       "version_major": 2,
       "version_minor": 0
      },
      "text/plain": [
       "Backtest.optimize:   0%|          | 0/100 [00:00<?, ?it/s]"
      ]
     },
     "metadata": {},
     "output_type": "display_data"
    },
    {
     "data": {
      "application/vnd.jupyter.widget-view+json": {
       "model_id": "8aa1a404838b4f43817e77c5d0542d89",
       "version_major": 2,
       "version_minor": 0
      },
      "text/plain": [
       "Backtest.optimize:   0%|          | 0/100 [00:00<?, ?it/s]"
      ]
     },
     "metadata": {},
     "output_type": "display_data"
    },
    {
     "data": {
      "application/vnd.jupyter.widget-view+json": {
       "model_id": "c291e9d647d14a5aa269421ef34392b6",
       "version_major": 2,
       "version_minor": 0
      },
      "text/plain": [
       "Backtest.optimize:   0%|          | 0/100 [00:00<?, ?it/s]"
      ]
     },
     "metadata": {},
     "output_type": "display_data"
    },
    {
     "data": {
      "application/vnd.jupyter.widget-view+json": {
       "model_id": "2fda585894cc49cca204fabb8e53b611",
       "version_major": 2,
       "version_minor": 0
      },
      "text/plain": [
       "Backtest.optimize:   0%|          | 0/100 [00:00<?, ?it/s]"
      ]
     },
     "metadata": {},
     "output_type": "display_data"
    },
    {
     "data": {
      "application/vnd.jupyter.widget-view+json": {
       "model_id": "d8f00638b28d442a9a1b6aaca8a88572",
       "version_major": 2,
       "version_minor": 0
      },
      "text/plain": [
       "Backtest.optimize:   0%|          | 0/100 [00:00<?, ?it/s]"
      ]
     },
     "metadata": {},
     "output_type": "display_data"
    },
    {
     "data": {
      "application/vnd.jupyter.widget-view+json": {
       "model_id": "b6b178dd026e4838baa571e6a0891268",
       "version_major": 2,
       "version_minor": 0
      },
      "text/plain": [
       "Backtest.optimize:   0%|          | 0/100 [00:00<?, ?it/s]"
      ]
     },
     "metadata": {},
     "output_type": "display_data"
    },
    {
     "data": {
      "application/vnd.jupyter.widget-view+json": {
       "model_id": "0dd5bb615aa440dfaa389fa5828946b1",
       "version_major": 2,
       "version_minor": 0
      },
      "text/plain": [
       "Backtest.optimize:   0%|          | 0/100 [00:00<?, ?it/s]"
      ]
     },
     "metadata": {},
     "output_type": "display_data"
    },
    {
     "data": {
      "application/vnd.jupyter.widget-view+json": {
       "model_id": "125d6c90f26445da8db36e7bfdc5117f",
       "version_major": 2,
       "version_minor": 0
      },
      "text/plain": [
       "Backtest.optimize:   0%|          | 0/100 [00:00<?, ?it/s]"
      ]
     },
     "metadata": {},
     "output_type": "display_data"
    },
    {
     "data": {
      "application/vnd.jupyter.widget-view+json": {
       "model_id": "74bda2fa57904da088c867fa699d5a9b",
       "version_major": 2,
       "version_minor": 0
      },
      "text/plain": [
       "Backtest.optimize:   0%|          | 0/100 [00:00<?, ?it/s]"
      ]
     },
     "metadata": {},
     "output_type": "display_data"
    },
    {
     "data": {
      "application/vnd.jupyter.widget-view+json": {
       "model_id": "eae89413484d49dcaea09c0805a301ee",
       "version_major": 2,
       "version_minor": 0
      },
      "text/plain": [
       "Backtest.optimize:   0%|          | 0/100 [00:00<?, ?it/s]"
      ]
     },
     "metadata": {},
     "output_type": "display_data"
    },
    {
     "data": {
      "application/vnd.jupyter.widget-view+json": {
       "model_id": "266bfa17a11147a88a79f3aa841bb90f",
       "version_major": 2,
       "version_minor": 0
      },
      "text/plain": [
       "Backtest.optimize:   0%|          | 0/100 [00:00<?, ?it/s]"
      ]
     },
     "metadata": {},
     "output_type": "display_data"
    },
    {
     "data": {
      "application/vnd.jupyter.widget-view+json": {
       "model_id": "59c35c64ae314082a68242922ebbdaf4",
       "version_major": 2,
       "version_minor": 0
      },
      "text/plain": [
       "Backtest.optimize:   0%|          | 0/100 [00:00<?, ?it/s]"
      ]
     },
     "metadata": {},
     "output_type": "display_data"
    },
    {
     "data": {
      "application/vnd.jupyter.widget-view+json": {
       "model_id": "f0568d9f5dfc4ad386cf6e392775174e",
       "version_major": 2,
       "version_minor": 0
      },
      "text/plain": [
       "Backtest.optimize:   0%|          | 0/100 [00:00<?, ?it/s]"
      ]
     },
     "metadata": {},
     "output_type": "display_data"
    },
    {
     "data": {
      "application/vnd.jupyter.widget-view+json": {
       "model_id": "de229fcc7683488c93f14a34055d0d03",
       "version_major": 2,
       "version_minor": 0
      },
      "text/plain": [
       "Backtest.optimize:   0%|          | 0/100 [00:00<?, ?it/s]"
      ]
     },
     "metadata": {},
     "output_type": "display_data"
    },
    {
     "data": {
      "application/vnd.jupyter.widget-view+json": {
       "model_id": "3eaafad835804fb4a7733343d4fa5ba7",
       "version_major": 2,
       "version_minor": 0
      },
      "text/plain": [
       "Backtest.optimize:   0%|          | 0/100 [00:00<?, ?it/s]"
      ]
     },
     "metadata": {},
     "output_type": "display_data"
    },
    {
     "data": {
      "application/vnd.jupyter.widget-view+json": {
       "model_id": "8f49c81122fc4422afad3fb4c5240161",
       "version_major": 2,
       "version_minor": 0
      },
      "text/plain": [
       "Backtest.optimize:   0%|          | 0/100 [00:00<?, ?it/s]"
      ]
     },
     "metadata": {},
     "output_type": "display_data"
    },
    {
     "data": {
      "application/vnd.jupyter.widget-view+json": {
       "model_id": "5f35e374212a4a3ba38f3f71853bd50c",
       "version_major": 2,
       "version_minor": 0
      },
      "text/plain": [
       "Backtest.optimize:   0%|          | 0/100 [00:00<?, ?it/s]"
      ]
     },
     "metadata": {},
     "output_type": "display_data"
    },
    {
     "data": {
      "application/vnd.jupyter.widget-view+json": {
       "model_id": "472d9e734b954936a89e8f77f58f8f54",
       "version_major": 2,
       "version_minor": 0
      },
      "text/plain": [
       "Backtest.optimize:   0%|          | 0/100 [00:00<?, ?it/s]"
      ]
     },
     "metadata": {},
     "output_type": "display_data"
    },
    {
     "data": {
      "application/vnd.jupyter.widget-view+json": {
       "model_id": "25424f61a60e4d108977b2a71a3fc66d",
       "version_major": 2,
       "version_minor": 0
      },
      "text/plain": [
       "Backtest.optimize:   0%|          | 0/100 [00:00<?, ?it/s]"
      ]
     },
     "metadata": {},
     "output_type": "display_data"
    },
    {
     "data": {
      "application/vnd.jupyter.widget-view+json": {
       "model_id": "81ea19f174ef4f19afb14bc0076bb9a8",
       "version_major": 2,
       "version_minor": 0
      },
      "text/plain": [
       "Backtest.optimize:   0%|          | 0/100 [00:00<?, ?it/s]"
      ]
     },
     "metadata": {},
     "output_type": "display_data"
    },
    {
     "data": {
      "application/vnd.jupyter.widget-view+json": {
       "model_id": "23d31a31f5b34a5ea374a8c7695d0abf",
       "version_major": 2,
       "version_minor": 0
      },
      "text/plain": [
       "Backtest.optimize:   0%|          | 0/100 [00:00<?, ?it/s]"
      ]
     },
     "metadata": {},
     "output_type": "display_data"
    },
    {
     "data": {
      "application/vnd.jupyter.widget-view+json": {
       "model_id": "cf873984b36747a0bd93a04c309b4851",
       "version_major": 2,
       "version_minor": 0
      },
      "text/plain": [
       "Backtest.optimize:   0%|          | 0/100 [00:00<?, ?it/s]"
      ]
     },
     "metadata": {},
     "output_type": "display_data"
    },
    {
     "data": {
      "application/vnd.jupyter.widget-view+json": {
       "model_id": "458ddf579e984c7b9cd304494c3a34d2",
       "version_major": 2,
       "version_minor": 0
      },
      "text/plain": [
       "Backtest.optimize:   0%|          | 0/100 [00:00<?, ?it/s]"
      ]
     },
     "metadata": {},
     "output_type": "display_data"
    },
    {
     "data": {
      "application/vnd.jupyter.widget-view+json": {
       "model_id": "447c49060e67407788745db7d27713b6",
       "version_major": 2,
       "version_minor": 0
      },
      "text/plain": [
       "Backtest.optimize:   0%|          | 0/100 [00:00<?, ?it/s]"
      ]
     },
     "metadata": {},
     "output_type": "display_data"
    },
    {
     "data": {
      "application/vnd.jupyter.widget-view+json": {
       "model_id": "4b0e6b0d5eb04130b432f6d2761fc99e",
       "version_major": 2,
       "version_minor": 0
      },
      "text/plain": [
       "Backtest.optimize:   0%|          | 0/100 [00:00<?, ?it/s]"
      ]
     },
     "metadata": {},
     "output_type": "display_data"
    },
    {
     "data": {
      "application/vnd.jupyter.widget-view+json": {
       "model_id": "cb41d45ec27840a4bd99b4043746de0c",
       "version_major": 2,
       "version_minor": 0
      },
      "text/plain": [
       "Backtest.optimize:   0%|          | 0/100 [00:00<?, ?it/s]"
      ]
     },
     "metadata": {},
     "output_type": "display_data"
    },
    {
     "data": {
      "application/vnd.jupyter.widget-view+json": {
       "model_id": "627532cceaad4f8fb3951ee1629f157e",
       "version_major": 2,
       "version_minor": 0
      },
      "text/plain": [
       "Backtest.optimize:   0%|          | 0/100 [00:00<?, ?it/s]"
      ]
     },
     "metadata": {},
     "output_type": "display_data"
    },
    {
     "data": {
      "application/vnd.jupyter.widget-view+json": {
       "model_id": "d186a12bbe01404287411155591838df",
       "version_major": 2,
       "version_minor": 0
      },
      "text/plain": [
       "Backtest.optimize:   0%|          | 0/100 [00:00<?, ?it/s]"
      ]
     },
     "metadata": {},
     "output_type": "display_data"
    },
    {
     "data": {
      "application/vnd.jupyter.widget-view+json": {
       "model_id": "e5df6165fdd14655a2e1dfed3744ac21",
       "version_major": 2,
       "version_minor": 0
      },
      "text/plain": [
       "Backtest.optimize:   0%|          | 0/100 [00:00<?, ?it/s]"
      ]
     },
     "metadata": {},
     "output_type": "display_data"
    },
    {
     "data": {
      "application/vnd.jupyter.widget-view+json": {
       "model_id": "c5d968e62e9244a993a740ffb9a31705",
       "version_major": 2,
       "version_minor": 0
      },
      "text/plain": [
       "Backtest.optimize:   0%|          | 0/100 [00:00<?, ?it/s]"
      ]
     },
     "metadata": {},
     "output_type": "display_data"
    },
    {
     "data": {
      "application/vnd.jupyter.widget-view+json": {
       "model_id": "01a545ab373e42dc88bf07c7dcac6e47",
       "version_major": 2,
       "version_minor": 0
      },
      "text/plain": [
       "Backtest.optimize:   0%|          | 0/100 [00:00<?, ?it/s]"
      ]
     },
     "metadata": {},
     "output_type": "display_data"
    },
    {
     "data": {
      "application/vnd.jupyter.widget-view+json": {
       "model_id": "ff8da4ee04aa43668d3c2993b179f155",
       "version_major": 2,
       "version_minor": 0
      },
      "text/plain": [
       "Backtest.optimize:   0%|          | 0/100 [00:00<?, ?it/s]"
      ]
     },
     "metadata": {},
     "output_type": "display_data"
    },
    {
     "data": {
      "application/vnd.jupyter.widget-view+json": {
       "model_id": "04bc11043db744bfaf33b3b1a01b1ffa",
       "version_major": 2,
       "version_minor": 0
      },
      "text/plain": [
       "Backtest.optimize:   0%|          | 0/100 [00:00<?, ?it/s]"
      ]
     },
     "metadata": {},
     "output_type": "display_data"
    }
   ],
   "source": [
    "# Определяем рабочие дни в данных\n",
    "business_days = pd.bdate_range(start=data.index.min(), end=data.index.max())\n",
    "progress = IntProgress(min=0, max=40)  # IntProgress(min=0, max=len(business_days) - 2)\n",
    "display(progress)\n",
    "\n",
    "\n",
    "for i in range(120,160):  # len(business_days) - 1\n",
    "    # Определяем начальную и конечную даты для тренировочного и тестового наборов\n",
    "    train_start = business_days[i]\n",
    "    train_end = train_start + pd.Timedelta(days=1) - pd.Timedelta(seconds=1)\n",
    "    test_start = business_days[i + 1]\n",
    "    test_end = test_start + pd.Timedelta(days=1) - pd.Timedelta(seconds=1)\n",
    "\n",
    "    # Выделяем тренировочный и тестовый наборы\n",
    "    train_data = data[train_start:train_end]\n",
    "    test_data = data[test_start:test_end]\n",
    "\n",
    "    if (len(test_data) > 1000) * (len(train_data) > 1000):\n",
    "        bt = Backtest(train_data, RegressionStrategy, cash=100000, commission=0.0000)\n",
    "        stats = bt.optimize(\n",
    "            k=range(15, 100),  # Перебираем целые значения от 1 до 100\n",
    "            window=range(20, 300),\n",
    "            maximize=\"Equity Final [$]\",  # maximize=\" Sharpe Ratio,  # Критерий оптимизации - конечный баланс\n",
    "            method=\"sambo\",  # Метод перебора\n",
    "            max_tries=100,  # Лимит количества комбинаций (можно увеличить)\n",
    "        )\n",
    "\n",
    "        # if len(test_data) > 1000:\n",
    "        # stats._strategy.k, stats._strategy.window\n",
    "\n",
    "        bt = Backtest(test_data, RegressionStrategy, cash=100000, commission=0.0000)\n",
    "\n",
    "        class RegressionStrategy(Strategy):\n",
    "            window = stats._strategy.window  # Количество свечей\n",
    "            k = stats._strategy.k\n",
    "            p_value_thresh = 0.1  # Порог стационарности\n",
    "\n",
    "            def init(self):\n",
    "                pass\n",
    "\n",
    "            def next(self):\n",
    "                # Пропускаем первые window свечей\n",
    "                if len(self.data.Close) < self.window:\n",
    "                    return\n",
    "\n",
    "                x = np.linspace(0, 1, num=self.window)\n",
    "                one = np.ones_like(x)\n",
    "                X = np.vstack([one, x, x**2]).T\n",
    "                self.t_lin = np.linalg.inv(X.T @ X) @ X.T\n",
    "                self.x = x\n",
    "\n",
    "                # Берем последние window цен закрытия\n",
    "                closes = self.data.Close[-self.window :]\n",
    "                # Создаем массив индексов для регрессии\n",
    "                # x = np.arange(len(closes))\n",
    "                \"\"\"\n",
    "                result = adfuller(closes)\n",
    "                p_value = result[1]\n",
    "                \n",
    "                # Если ряд не стационарен - не торгуем\n",
    "            \n",
    "                if p_value >= self.p_value_thresh:\n",
    "                    return\n",
    "                    \"\"\"\n",
    "\n",
    "                if not self.position:\n",
    "                    # Тест Рамсея на линейность\n",
    "                    _, s = ramsey_reset_test(self.x, closes - np.mean(closes))\n",
    "                    X = self.x.reshape(-1, 1)\n",
    "                    _, p_value = het_breuschpagan(X, closes)\n",
    "                    if (p_value < 0.1) * (s < 0.1):  # * (s < 0.1)\n",
    "                        return\n",
    "\n",
    "                # тест на гетероскедантичность\n",
    "                \"\"\"\n",
    "                X = self.x.reshape(-1,1)\n",
    "                _, p_value = het_breuschpagan(X, closes)\n",
    "                if (p_value>0.1) * (not self.position):\n",
    "                    return\n",
    "                \"\"\"\n",
    "\n",
    "                # Рассчитываем коэффициенты линейной регрессии\n",
    "                w = self.t_lin @ closes\n",
    "\n",
    "                slope = w[1]\n",
    "                intercept = w[0]\n",
    "                # slope, intercept = np.polyfit(x, closes, 1)\n",
    "\n",
    "                # Получаем линию регрессии\n",
    "                regression_line = slope * self.x + intercept  # + w[2]*self.x**2\n",
    "\n",
    "                # Рассчитываем СКО ошибок\n",
    "                residuals = closes - regression_line\n",
    "\n",
    "                # Тест на нормальность\n",
    "\n",
    "                if not self.position:\n",
    "                    _, p_value = shapiro(residuals)\n",
    "                    if p_value < 0.1:\n",
    "                        return\n",
    "\n",
    "                # Дарли Уотсона тест на постояноство ошибки (гетероскедантичность)\n",
    "                \"\"\"\n",
    "                if (not self.position) * (durbin_watson(residuals)<0.7):\n",
    "                    return\n",
    "                    \"\"\"\n",
    "                std = np.std(residuals / (self.window - 2))\n",
    "\n",
    "                # Текущие значения\n",
    "                current_reg = regression_line[-1]\n",
    "                current_price = closes[-1]\n",
    "                upper_band = current_reg + std * self.k\n",
    "                lower_band = current_reg - std * self.k\n",
    "\n",
    "                # Логика торговли\n",
    "                if not self.position:\n",
    "                    # Сигнал на продажу\n",
    "                    if current_price > upper_band:\n",
    "                        self.sell()\n",
    "\n",
    "                    # Сигнал на покупку\n",
    "                    elif current_price < lower_band:\n",
    "                        self.buy()\n",
    "\n",
    "                else:\n",
    "                    # Выход из длинной позиции\n",
    "                    if self.position.is_long and current_price > current_reg:\n",
    "                        self.position.close()\n",
    "\n",
    "                    # Выход из короткой позиции\n",
    "                    elif self.position.is_short and current_price < current_reg:\n",
    "                        self.position.close()\n",
    "\n",
    "        stats = bt.run()\n",
    "        ret = (\n",
    "            stats._equity_curve.Equity.values[1:]\n",
    "            - stats._equity_curve.Equity.values[:-1]\n",
    "        ) / stats._equity_curve.Equity.values[:-1]\n",
    "        ans[i] = ret\n",
    "\n",
    "with open(\"data_1day_3.pkl\", \"wb\") as file:\n",
    "    pickle.dump(ans, file)\n"
   ]
  },
  {
   "cell_type": "code",
   "execution_count": 10,
   "metadata": {},
   "outputs": [],
   "source": [
    "t = []\n",
    "L = list(ans)\n",
    "for j in L:\n",
    "    t.append(np.cumsum(ans[j])[-1])\n",
    "\n",
    "t1 = np.array(ans[120])\n",
    "\n",
    "for j in L:\n",
    "    if j != 0 :\n",
    "        t1 = np.concatenate([t1, np.array(ans[j])])"
   ]
  },
  {
   "cell_type": "code",
   "execution_count": 11,
   "metadata": {},
   "outputs": [
    {
     "data": {
      "image/png": "[encoded data removed]",
      "text/plain": [
       "<Figure size 640x480 with 1 Axes>"
      ]
     },
     "metadata": {},
     "output_type": "display_data"
    }
   ],
   "source": [
    "plt.plot(np.cumsum(t1))\n",
    "plt.grid(True)"
   ]
  },
  {
   "cell_type": "code",
   "execution_count": 9,
   "metadata": {},
   "outputs": [
    {
     "data": {
      "text/plain": [
       "{120: array([ 0.00000000e+00,  0.00000000e+00,  0.00000000e+00, ...,\n",
       "         2.49497886e-05, -9.97966643e-05, -1.24758281e-05], shape=(4857,)),\n",
       " 121: array([0., 0., 0., ..., 0., 0., 0.], shape=(2698,)),\n",
       " 122: array([0., 0., 0., ..., 0., 0., 0.], shape=(4060,)),\n",
       " 123: array([ 0.        ,  0.        ,  0.        , ...,  0.00035137,\n",
       "        -0.00061469, -0.00012552], shape=(1017,)),\n",
       " 130: array([ 0.00000000e+00,  0.00000000e+00,  0.00000000e+00, ...,\n",
       "         9.96303713e-06, -1.99258757e-05,  0.00000000e+00], shape=(5447,)),\n",
       " 131: array([0.00000000e+00, 0.00000000e+00, 0.00000000e+00, ...,\n",
       "        2.99496845e-05, 2.99487876e-05, 9.98263022e-06], shape=(4434,)),\n",
       " 132: array([ 0.00000000e+00,  0.00000000e+00,  0.00000000e+00, ...,\n",
       "        -1.99598806e-05,  0.00000000e+00,  0.00000000e+00], shape=(4100,)),\n",
       " 133: array([0.00000000e+00, 0.00000000e+00, 0.00000000e+00, ...,\n",
       "        0.00000000e+00, 1.99207156e-05, 5.97609562e-05], shape=(4940,)),\n",
       " 134: array([0., 0., 0., ..., 0., 0., 0.], shape=(5401,)),\n",
       " 135: array([0.00000000e+00, 0.00000000e+00, 0.00000000e+00, ...,\n",
       "        0.00000000e+00, 1.00234549e-05, 0.00000000e+00], shape=(5391,)),\n",
       " 136: array([0., 0., 0., ..., 0., 0., 0.], shape=(5372,)),\n",
       " 137: array([ 0.00000000e+00,  0.00000000e+00,  0.00000000e+00, ...,\n",
       "        -4.97517388e-05,  1.89066014e-04,  4.97448091e-05], shape=(5380,)),\n",
       " 138: array([ 0.00000000e+00,  0.00000000e+00,  0.00000000e+00, ...,\n",
       "        -1.98552552e-05,  5.95669483e-05,  0.00000000e+00], shape=(4979,)),\n",
       " 139: array([ 0.00000000e+00,  0.00000000e+00,  0.00000000e+00, ...,\n",
       "         4.98196529e-05, -1.99268684e-05, -1.99272655e-05], shape=(5408,)),\n",
       " 140: array([0.00000000e+00, 0.00000000e+00, 0.00000000e+00, ...,\n",
       "        0.00000000e+00, 4.98643689e-05, 0.00000000e+00], shape=(5378,)),\n",
       " 141: array([ 0.00000000e+00,  0.00000000e+00,  0.00000000e+00, ...,\n",
       "         3.00969121e-05,  0.00000000e+00, -3.00960063e-05], shape=(5448,)),\n",
       " 142: array([ 0.00000000e+00,  0.00000000e+00,  0.00000000e+00, ...,\n",
       "        -1.24728093e-05, -4.98918594e-05,  1.24735872e-05], shape=(5451,)),\n",
       " 143: array([0., 0., 0., ..., 0., 0., 0.], shape=(4923,)),\n",
       " 144: array([0., 0., 0., ..., 0., 0., 0.], shape=(5471,)),\n",
       " 145: array([ 0.00000000e+00,  0.00000000e+00,  0.00000000e+00, ...,\n",
       "        -6.30273816e-05, -1.26062709e-05, -2.52128596e-05], shape=(5457,)),\n",
       " 146: array([0.00000000e+00, 0.00000000e+00, 0.00000000e+00, ...,\n",
       "        0.00000000e+00, 0.00000000e+00, 1.25308572e-05], shape=(5476,)),\n",
       " 147: array([0., 0., 0., ..., 0., 0., 0.], shape=(5500,)),\n",
       " 148: array([ 0.00000000e+00,  0.00000000e+00,  0.00000000e+00, ...,\n",
       "         9.76550579e-05,  2.44113806e-05, -1.22053923e-05], shape=(5004,)),\n",
       " 149: array([0.00000000e+00, 0.00000000e+00, 0.00000000e+00, ...,\n",
       "        7.47393465e-05, 2.49112537e-05, 6.22765828e-05], shape=(5373,)),\n",
       " 150: array([0., 0., 0., ..., 0., 0., 0.], shape=(5476,)),\n",
       " 151: array([ 0.00000000e+00,  0.00000000e+00,  0.00000000e+00, ...,\n",
       "        -1.25380844e-05,  0.00000000e+00,  1.25382416e-04], shape=(5488,)),\n",
       " 152: array([ 0.00000000e+00,  0.00000000e+00,  0.00000000e+00, ...,\n",
       "        -3.22109071e-04, -1.36320825e-04,  1.23944919e-05], shape=(5504,)),\n",
       " 153: array([0., 0., 0., ..., 0., 0., 0.], shape=(5008,)),\n",
       " 154: array([0., 0., 0., ..., 0., 0., 0.], shape=(5511,)),\n",
       " 155: array([0., 0., 0., ..., 0., 0., 0.], shape=(5512,)),\n",
       " 156: array([ 0.00000000e+00,  0.00000000e+00,  0.00000000e+00, ...,\n",
       "        -1.26316853e-05,  5.55801175e-04,  8.20613819e-04], shape=(5503,)),\n",
       " 157: array([ 0.00000000e+00,  0.00000000e+00,  0.00000000e+00, ...,\n",
       "         1.76060766e-04, -8.80148871e-05,  0.00000000e+00], shape=(5496,)),\n",
       " 158: array([0.00000000e+00, 0.00000000e+00, 0.00000000e+00, ...,\n",
       "        3.77367984e-05, 3.77353744e-05, 6.28899175e-05], shape=(4990,)),\n",
       " 159: array([0., 0., 0., ..., 0., 0., 0.], shape=(5302,))}"
      ]
     },
     "execution_count": 9,
     "metadata": {},
     "output_type": "execute_result"
    }
   ],
   "source": [
    "ans"
   ]
  }
 ],
 "metadata": {
  "kernelspec": {
   "display_name": "deep",
   "language": "python",
   "name": "python3"
  },
  "language_info": {
   "codemirror_mode": {
    "name": "ipython",
    "version": 3
   },
   "file_extension": ".py",
   "mimetype": "text/x-python",
   "name": "python",
   "nbconvert_exporter": "python",
   "pygments_lexer": "ipython3",
   "version": "3.13.2"
  }
 },
 "nbformat": 4,
 "nbformat_minor": 2
}
